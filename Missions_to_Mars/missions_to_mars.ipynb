{
 "cells": [
  {
   "cell_type": "code",
   "execution_count": 1,
   "id": "6f196a04",
   "metadata": {},
   "outputs": [],
   "source": [
    "#import dependencies\n",
    "from splinter import Browser\n",
    "from bs4 import BeautifulSoup as bs\n",
    "from selenium import webdriver\n",
    "import pandas as pd\n",
    "import requests\n",
    "import pymongo\n",
    "from flask import Flask\n",
    "#flask_pymongo import is generating an error code. Pip install Flask-Pymongo\n",
    "##documentation here: https://flask-pymongo.readthedocs.io/en/latest/\n",
    "from flask_pymongo import PyMongo\n",
    "from flask import render_template, redirect\n",
    "###pip install fixed the error."
   ]
  },
  {
   "cell_type": "code",
   "execution_count": 4,
   "id": "9855389e",
   "metadata": {},
   "outputs": [],
   "source": [
    "#Set up the executable path and the browser. Boiler plate code.\n",
    "executable_path = {'executable_path': 'chromedriver.exe'}\n",
    "browser = Browser('chrome', **executable_path, headless=False) "
   ]
  },
  {
   "cell_type": "code",
   "execution_count": 5,
   "id": "099ffa5c",
   "metadata": {},
   "outputs": [],
   "source": [
    "#link to the url from the assignment readme\n",
    "redplanet_url = 'https://redplanetscience.com/'\n",
    "browser.visit(redplanet_url)"
   ]
  },
  {
   "cell_type": "code",
   "execution_count": 16,
   "id": "eb144647",
   "metadata": {},
   "outputs": [
    {
     "name": "stdout",
     "output_type": "stream",
     "text": [
      "Space History Is Made in This NASA Robot Factory\n",
      "=================================================\n",
      "From rockets to rovers, JPL's Spacecraft Assembly Facility has been at the center of robotic spaceflight. Here's a closer look at what makes it so special.\n"
     ]
    }
   ],
   "source": [
    "#create the html, soup, and do the scraping\n",
    "html = browser.html\n",
    "\n",
    "redplanet_soup = bs(html, 'html.parser')\n",
    "\n",
    "#assign as variables the scraped data\n",
    "news_title = redplanet_soup.find_all('div', class_='content_title')[0].text\n",
    "news_paragraph = redplanet_soup.find_all('div', class_='article_teaser_body')[0].text\n",
    "\n",
    "print(news_title)\n",
    "print(\"=================================================\")\n",
    "print(news_paragraph)"
   ]
  },
  {
   "cell_type": "code",
   "execution_count": 59,
   "id": "4a2df0a9",
   "metadata": {},
   "outputs": [
    {
     "ename": "IndexError",
     "evalue": "list index out of range",
     "output_type": "error",
     "traceback": [
      "\u001b[1;31m---------------------------------------------------------------------------\u001b[0m",
      "\u001b[1;31mIndexError\u001b[0m                                Traceback (most recent call last)",
      "\u001b[1;32m<ipython-input-59-2d5ef30fb1dc>\u001b[0m in \u001b[0;36m<module>\u001b[1;34m\u001b[0m\n\u001b[0;32m     17\u001b[0m \u001b[1;33m\u001b[0m\u001b[0m\n\u001b[0;32m     18\u001b[0m \u001b[0mimage_path\u001b[0m \u001b[1;33m=\u001b[0m \u001b[1;33m[\u001b[0m\u001b[0mi\u001b[0m\u001b[1;33m.\u001b[0m\u001b[0mget\u001b[0m\u001b[1;33m(\u001b[0m\u001b[1;34m'src'\u001b[0m\u001b[1;33m)\u001b[0m \u001b[1;32mfor\u001b[0m \u001b[0mi\u001b[0m \u001b[1;32min\u001b[0m \u001b[0mimage_soup\u001b[0m\u001b[1;33m.\u001b[0m\u001b[0mfind_all\u001b[0m\u001b[1;33m(\u001b[0m\u001b[1;34m'img'\u001b[0m\u001b[1;33m,\u001b[0m \u001b[0mclass_\u001b[0m\u001b[1;33m=\u001b[0m\u001b[1;34m'headerimage fade-in'\u001b[0m\u001b[1;33m)\u001b[0m\u001b[1;33m]\u001b[0m\u001b[1;33m\u001b[0m\u001b[1;33m\u001b[0m\u001b[0m\n\u001b[1;32m---> 19\u001b[1;33m \u001b[0mimage_path\u001b[0m\u001b[1;33m[\u001b[0m\u001b[1;36m0\u001b[0m\u001b[1;33m]\u001b[0m\u001b[1;33m\u001b[0m\u001b[1;33m\u001b[0m\u001b[0m\n\u001b[0m\u001b[0;32m     20\u001b[0m \u001b[1;33m\u001b[0m\u001b[0m\n",
      "\u001b[1;31mIndexError\u001b[0m: list index out of range"
     ]
    }
   ],
   "source": [
    "# JPL Mars Space Images - Featured Image\n",
    "##Visit the url for the Featured Space Image site [here](https://spaceimages-mars.com).\n",
    "###Use splinter to navigate the site and find the image url for the current Featured Mars Image and assign the url string to a variable called `featured_image_url`.\n",
    "####Make sure to find the image url to the full size `.jpg` image.\n",
    "#####Make sure to save a complete url string for this image.\n",
    "\n",
    "jpl_image_url = 'https://spaceimages-mars.com'\n",
    "image_url = 'https://spaceimages-mars.com/image/?search=&category=Mars'\n",
    "\n",
    "browser.visit(image_url)\n",
    "\n",
    "#browser.find_by_name('featured').click()\n",
    "\n",
    "html = browser.html\n",
    "\n",
    "image_soup = bs(html, 'html.parser')\n",
    "\n",
    "image_path = [i.get('src') for i in image_soup.find_all('img', class_='headerimage fade-in')]\n",
    "image_path[0]\n",
    "              \n"
   ]
  },
  {
   "cell_type": "code",
   "execution_count": 58,
   "id": "8f86c8b1",
   "metadata": {},
   "outputs": [
    {
     "ename": "IndexError",
     "evalue": "list index out of range",
     "output_type": "error",
     "traceback": [
      "\u001b[1;31m---------------------------------------------------------------------------\u001b[0m",
      "\u001b[1;31mIndexError\u001b[0m                                Traceback (most recent call last)",
      "\u001b[1;32m<ipython-input-58-d64e232edd0c>\u001b[0m in \u001b[0;36m<module>\u001b[1;34m\u001b[0m\n\u001b[1;32m----> 1\u001b[1;33m \u001b[0mfeatured_image_url\u001b[0m \u001b[1;33m=\u001b[0m \u001b[0mjpl_image_url\u001b[0m \u001b[1;33m+\u001b[0m \u001b[0mimage_path\u001b[0m\u001b[1;33m[\u001b[0m\u001b[1;36m0\u001b[0m\u001b[1;33m]\u001b[0m\u001b[1;33m\u001b[0m\u001b[1;33m\u001b[0m\u001b[0m\n\u001b[0m\u001b[0;32m      2\u001b[0m \u001b[0mfeatured_image_url\u001b[0m\u001b[1;33m\u001b[0m\u001b[1;33m\u001b[0m\u001b[0m\n",
      "\u001b[1;31mIndexError\u001b[0m: list index out of range"
     ]
    }
   ],
   "source": [
    "featured_image_url = jpl_image_url + image_path[0]\n",
    "featured_image_url"
   ]
  },
  {
   "cell_type": "code",
   "execution_count": 25,
   "id": "0940b8e0",
   "metadata": {},
   "outputs": [],
   "source": [
    "#Mars Facts\n",
    "##Visit the Mars Facts webpage [here](https://galaxyfacts-mars.com) and use Pandas to scrape the table containing facts about the planet including Diameter, Mass, etc.\n",
    "###Use Pandas to convert the data to a HTML table string.\n",
    "\n",
    "facts_url = 'https://galaxyfacts-mars.com'\n",
    "browser.visit(facts_url)\n"
   ]
  },
  {
   "cell_type": "code",
   "execution_count": 28,
   "id": "4823f5f1",
   "metadata": {},
   "outputs": [
    {
     "data": {
      "text/html": [
       "<div>\n",
       "<style scoped>\n",
       "    .dataframe tbody tr th:only-of-type {\n",
       "        vertical-align: middle;\n",
       "    }\n",
       "\n",
       "    .dataframe tbody tr th {\n",
       "        vertical-align: top;\n",
       "    }\n",
       "\n",
       "    .dataframe thead th {\n",
       "        text-align: right;\n",
       "    }\n",
       "</style>\n",
       "<table border=\"1\" class=\"dataframe\">\n",
       "  <thead>\n",
       "    <tr style=\"text-align: right;\">\n",
       "      <th></th>\n",
       "      <th>Description</th>\n",
       "      <th>Mars</th>\n",
       "    </tr>\n",
       "  </thead>\n",
       "  <tbody>\n",
       "    <tr>\n",
       "      <th>0</th>\n",
       "      <td>Equatorial Diameter:</td>\n",
       "      <td>6,792 km</td>\n",
       "    </tr>\n",
       "    <tr>\n",
       "      <th>1</th>\n",
       "      <td>Polar Diameter:</td>\n",
       "      <td>6,752 km</td>\n",
       "    </tr>\n",
       "    <tr>\n",
       "      <th>2</th>\n",
       "      <td>Mass:</td>\n",
       "      <td>6.39 × 10^23 kg (0.11 Earths)</td>\n",
       "    </tr>\n",
       "    <tr>\n",
       "      <th>3</th>\n",
       "      <td>Moons:</td>\n",
       "      <td>2 ( Phobos &amp; Deimos )</td>\n",
       "    </tr>\n",
       "    <tr>\n",
       "      <th>4</th>\n",
       "      <td>Orbit Distance:</td>\n",
       "      <td>227,943,824 km (1.38 AU)</td>\n",
       "    </tr>\n",
       "    <tr>\n",
       "      <th>5</th>\n",
       "      <td>Orbit Period:</td>\n",
       "      <td>687 days (1.9 years)</td>\n",
       "    </tr>\n",
       "    <tr>\n",
       "      <th>6</th>\n",
       "      <td>Surface Temperature:</td>\n",
       "      <td>-87 to -5 °C</td>\n",
       "    </tr>\n",
       "    <tr>\n",
       "      <th>7</th>\n",
       "      <td>First Record:</td>\n",
       "      <td>2nd millennium BC</td>\n",
       "    </tr>\n",
       "    <tr>\n",
       "      <th>8</th>\n",
       "      <td>Recorded By:</td>\n",
       "      <td>Egyptian astronomers</td>\n",
       "    </tr>\n",
       "  </tbody>\n",
       "</table>\n",
       "</div>"
      ],
      "text/plain": [
       "            Description                           Mars\n",
       "0  Equatorial Diameter:                       6,792 km\n",
       "1       Polar Diameter:                       6,752 km\n",
       "2                 Mass:  6.39 × 10^23 kg (0.11 Earths)\n",
       "3                Moons:          2 ( Phobos & Deimos )\n",
       "4       Orbit Distance:       227,943,824 km (1.38 AU)\n",
       "5         Orbit Period:           687 days (1.9 years)\n",
       "6  Surface Temperature:                   -87 to -5 °C\n",
       "7         First Record:              2nd millennium BC\n",
       "8          Recorded By:           Egyptian astronomers"
      ]
     },
     "execution_count": 28,
     "metadata": {},
     "output_type": "execute_result"
    }
   ],
   "source": [
    "#Mars Facts Pandas Portion\n",
    "facts_df = pd.read_html(facts_url)[1]\n",
    "facts_df.columns = ['Description', 'Mars']\n",
    "facts_df"
   ]
  },
  {
   "cell_type": "code",
   "execution_count": 34,
   "id": "7d6b82dd",
   "metadata": {},
   "outputs": [
    {
     "data": {
      "text/html": [
       "<div>\n",
       "<style scoped>\n",
       "    .dataframe tbody tr th:only-of-type {\n",
       "        vertical-align: middle;\n",
       "    }\n",
       "\n",
       "    .dataframe tbody tr th {\n",
       "        vertical-align: top;\n",
       "    }\n",
       "\n",
       "    .dataframe thead th {\n",
       "        text-align: right;\n",
       "    }\n",
       "</style>\n",
       "<table border=\"1\" class=\"dataframe\">\n",
       "  <thead>\n",
       "    <tr style=\"text-align: right;\">\n",
       "      <th></th>\n",
       "      <th>0</th>\n",
       "      <th>1</th>\n",
       "      <th>2</th>\n",
       "      <th>3</th>\n",
       "      <th>4</th>\n",
       "      <th>5</th>\n",
       "      <th>6</th>\n",
       "      <th>7</th>\n",
       "      <th>8</th>\n",
       "    </tr>\n",
       "  </thead>\n",
       "  <tbody>\n",
       "    <tr>\n",
       "      <th>Description</th>\n",
       "      <td>Equatorial Diameter:</td>\n",
       "      <td>Polar Diameter:</td>\n",
       "      <td>Mass:</td>\n",
       "      <td>Moons:</td>\n",
       "      <td>Orbit Distance:</td>\n",
       "      <td>Orbit Period:</td>\n",
       "      <td>Surface Temperature:</td>\n",
       "      <td>First Record:</td>\n",
       "      <td>Recorded By:</td>\n",
       "    </tr>\n",
       "    <tr>\n",
       "      <th>Mars</th>\n",
       "      <td>6,792 km</td>\n",
       "      <td>6,752 km</td>\n",
       "      <td>6.39 × 10^23 kg (0.11 Earths)</td>\n",
       "      <td>2 ( Phobos &amp; Deimos )</td>\n",
       "      <td>227,943,824 km (1.38 AU)</td>\n",
       "      <td>687 days (1.9 years)</td>\n",
       "      <td>-87 to -5 °C</td>\n",
       "      <td>2nd millennium BC</td>\n",
       "      <td>Egyptian astronomers</td>\n",
       "    </tr>\n",
       "  </tbody>\n",
       "</table>\n",
       "</div>"
      ],
      "text/plain": [
       "                                0                1  \\\n",
       "Description  Equatorial Diameter:  Polar Diameter:   \n",
       "Mars                     6,792 km         6,752 km   \n",
       "\n",
       "                                         2                      3  \\\n",
       "Description                          Mass:                 Moons:   \n",
       "Mars         6.39 × 10^23 kg (0.11 Earths)  2 ( Phobos & Deimos )   \n",
       "\n",
       "                                    4                     5  \\\n",
       "Description           Orbit Distance:         Orbit Period:   \n",
       "Mars         227,943,824 km (1.38 AU)  687 days (1.9 years)   \n",
       "\n",
       "                                6                  7                     8  \n",
       "Description  Surface Temperature:      First Record:          Recorded By:  \n",
       "Mars                 -87 to -5 °C  2nd millennium BC  Egyptian astronomers  "
      ]
     },
     "execution_count": 34,
     "metadata": {},
     "output_type": "execute_result"
    }
   ],
   "source": [
    "#Mars Facts pandas dataframe to html portion\n",
    "##transpose the df. Documentation: https://numpy.org/doc/stable/reference/generated/numpy.matrix.transpose.html\n",
    "\n",
    "facts_transpose = facts_df.transpose()\n",
    "facts_transpose"
   ]
  },
  {
   "cell_type": "code",
   "execution_count": 37,
   "id": "36bd8eec",
   "metadata": {},
   "outputs": [],
   "source": [
    "#take the transposed dataframe and render in in html with .to_html\n",
    "facts_html = facts_transpose.to_html('MarsFacts.html', index=False)\n",
    "facts_html"
   ]
  },
  {
   "cell_type": "code",
   "execution_count": 43,
   "id": "299d612b",
   "metadata": {},
   "outputs": [],
   "source": [
    "#Mars Hemispheres\n",
    "#Visit the astrogeology site [here](https://marshemispheres.com/) to obtain high resolution images for each of Mar's hemispheres.\n",
    "##You will need to click each of the links to the hemispheres in order to find the image url to the full resolution image.\n",
    "###Save both the image url string for the full resolution hemisphere image, and the Hemisphere title containing the hemisphere name. \n",
    "####Use a Python dictionary to store the data using the keys `img_url` and `title`.\n",
    "####Append the dictionary with the image url string and the hemisphere title to a list. This list will contain one dictionary for each hemisphere.\n",
    "\n",
    "#####First set up the URLs and paths and soup\n",
    "\n",
    "hemi_url = 'https://marshemispheres.com/'\n",
    "hemi_url_path = requests.get(hemi_url)\n",
    "\n",
    "hemi_soup = bs(hemi_url_path.content)\n"
   ]
  },
  {
   "cell_type": "code",
   "execution_count": 44,
   "id": "702d1b73",
   "metadata": {},
   "outputs": [],
   "source": [
    "#Next find the div items for the images\n",
    "hemi_div_item = hemi_soup.find_all('div', class_='item')"
   ]
  },
  {
   "cell_type": "code",
   "execution_count": 45,
   "id": "2470de38",
   "metadata": {},
   "outputs": [
    {
     "name": "stdout",
     "output_type": "stream",
     "text": [
      "['cerberus.html', 'schiaparelli.html', 'syrtis.html', 'valles.html']\n"
     ]
    }
   ],
   "source": [
    "#Next find the links to the images and append them to a dictionary\n",
    "hemi_links = []\n",
    "for i in hemi_div_item:\n",
    "    for a in i.find_all('a', href=True):\n",
    "        if a.text:\n",
    "            hemi_links.append(a['href'])\n",
    "#print(hemi_links)"
   ]
  },
  {
   "cell_type": "code",
   "execution_count": 47,
   "id": "3883d446",
   "metadata": {},
   "outputs": [
    {
     "data": {
      "text/plain": [
       "['https://marshemispheres.com/cerberus.html',\n",
       " 'https://marshemispheres.com/schiaparelli.html',\n",
       " 'https://marshemispheres.com/syrtis.html',\n",
       " 'https://marshemispheres.com/valles.html']"
      ]
     },
     "execution_count": 47,
     "metadata": {},
     "output_type": "execute_result"
    }
   ],
   "source": [
    "#NEXT take the dictionary of individual links and combine it with the url for the hemishperes\n",
    "full_hemi_links = [hemi_url + i for i in hemi_links]\n",
    "full_hemi_links"
   ]
  },
  {
   "cell_type": "code",
   "execution_count": null,
   "id": "f996c375",
   "metadata": {},
   "outputs": [],
   "source": []
  }
 ],
 "metadata": {
  "kernelspec": {
   "display_name": "Python 3",
   "language": "python",
   "name": "python3"
  },
  "language_info": {
   "codemirror_mode": {
    "name": "ipython",
    "version": 3
   },
   "file_extension": ".py",
   "mimetype": "text/x-python",
   "name": "python",
   "nbconvert_exporter": "python",
   "pygments_lexer": "ipython3",
   "version": "3.8.8"
  }
 },
 "nbformat": 4,
 "nbformat_minor": 5
}
