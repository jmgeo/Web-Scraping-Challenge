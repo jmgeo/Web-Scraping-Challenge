{
 "cells": [
  {
   "cell_type": "code",
   "execution_count": 1,
   "id": "6f196a04",
   "metadata": {},
   "outputs": [],
   "source": [
    "#import dependencies\n",
    "from splinter import Browser\n",
    "from bs4 import BeautifulSoup as bs\n",
    "from selenium import webdriver\n",
    "import pandas as pd\n",
    "import requests\n",
    "import pymongo\n",
    "from flask import Flask\n",
    "#flask_pymongo import is generating an error code. Pip install Flask-Pymongo\n",
    "##documentation here: https://flask-pymongo.readthedocs.io/en/latest/\n",
    "from flask_pymongo import PyMongo\n",
    "from flask import render_template, redirect\n",
    "###pip install fixed the error."
   ]
  },
  {
   "cell_type": "code",
   "execution_count": 2,
   "id": "9855389e",
   "metadata": {},
   "outputs": [],
   "source": [
    "#Set up the executable path and the browser. Boiler plate code.\n",
    "executable_path = {'executable_path': 'chromedriver.exe'}\n",
    "browser = Browser('chrome', **executable_path, headless=False) "
   ]
  },
  {
   "cell_type": "code",
   "execution_count": 3,
   "id": "0f5ff74c",
   "metadata": {},
   "outputs": [],
   "source": [
    "#link to the url from the assignment readme\n",
    "redplanet_url = 'https://redplanetscience.com/'\n",
    "browser.visit(redplanet_url)"
   ]
  },
  {
   "cell_type": "code",
   "execution_count": 4,
   "id": "88db3825",
   "metadata": {},
   "outputs": [
    {
     "name": "stdout",
     "output_type": "stream",
     "text": [
      "NASA's Curiosity Mars Rover Takes a New Selfie Before Record Climb\n",
      "=================================================\n",
      "Along with capturing an image before its steepest ascent ever, the robotic explorer filmed its \"selfie stick,\" or robotic arm, in action.\n"
     ]
    }
   ],
   "source": [
    "#create the html, soup, and do the scraping\n",
    "html = browser.html\n",
    "\n",
    "redplanet_soup = bs(html, 'html.parser')\n",
    "\n",
    "#assign as variables the scraped data\n",
    "news_title = redplanet_soup.find_all('div', class_='content_title')[0].text\n",
    "news_paragraph = redplanet_soup.find_all('div', class_='article_teaser_body')[0].text\n",
    "\n",
    "print(news_title)\n",
    "print(\"=================================================\")\n",
    "print(news_paragraph)"
   ]
  },
  {
   "cell_type": "code",
   "execution_count": 5,
   "id": "b1a572ac",
   "metadata": {},
   "outputs": [
    {
     "ename": "IndexError",
     "evalue": "list index out of range",
     "output_type": "error",
     "traceback": [
      "\u001b[1;31m---------------------------------------------------------------------------\u001b[0m",
      "\u001b[1;31mIndexError\u001b[0m                                Traceback (most recent call last)",
      "\u001b[1;32m<ipython-input-5-2d5ef30fb1dc>\u001b[0m in \u001b[0;36m<module>\u001b[1;34m\u001b[0m\n\u001b[0;32m     17\u001b[0m \u001b[1;33m\u001b[0m\u001b[0m\n\u001b[0;32m     18\u001b[0m \u001b[0mimage_path\u001b[0m \u001b[1;33m=\u001b[0m \u001b[1;33m[\u001b[0m\u001b[0mi\u001b[0m\u001b[1;33m.\u001b[0m\u001b[0mget\u001b[0m\u001b[1;33m(\u001b[0m\u001b[1;34m'src'\u001b[0m\u001b[1;33m)\u001b[0m \u001b[1;32mfor\u001b[0m \u001b[0mi\u001b[0m \u001b[1;32min\u001b[0m \u001b[0mimage_soup\u001b[0m\u001b[1;33m.\u001b[0m\u001b[0mfind_all\u001b[0m\u001b[1;33m(\u001b[0m\u001b[1;34m'img'\u001b[0m\u001b[1;33m,\u001b[0m \u001b[0mclass_\u001b[0m\u001b[1;33m=\u001b[0m\u001b[1;34m'headerimage fade-in'\u001b[0m\u001b[1;33m)\u001b[0m\u001b[1;33m]\u001b[0m\u001b[1;33m\u001b[0m\u001b[1;33m\u001b[0m\u001b[0m\n\u001b[1;32m---> 19\u001b[1;33m \u001b[0mimage_path\u001b[0m\u001b[1;33m[\u001b[0m\u001b[1;36m0\u001b[0m\u001b[1;33m]\u001b[0m\u001b[1;33m\u001b[0m\u001b[1;33m\u001b[0m\u001b[0m\n\u001b[0m\u001b[0;32m     20\u001b[0m \u001b[1;33m\u001b[0m\u001b[0m\n",
      "\u001b[1;31mIndexError\u001b[0m: list index out of range"
     ]
    }
   ],
   "source": [
    "# JPL Mars Space Images - Featured Image\n",
    "##Visit the url for the Featured Space Image site [here](https://spaceimages-mars.com).\n",
    "###Use splinter to navigate the site and find the image url for the current Featured Mars Image and assign the url string to a variable called `featured_image_url`.\n",
    "####Make sure to find the image url to the full size `.jpg` image.\n",
    "#####Make sure to save a complete url string for this image.\n",
    "\n",
    "jpl_image_url = 'https://spaceimages-mars.com'\n",
    "image_url = 'https://spaceimages-mars.com/image/?search=&category=Mars'\n",
    "\n",
    "browser.visit(image_url)\n",
    "\n",
    "#browser.find_by_name('featured').click()\n",
    "\n",
    "html = browser.html\n",
    "\n",
    "image_soup = bs(html, 'html.parser')\n",
    "\n",
    "image_path = [i.get('src') for i in image_soup.find_all('img', class_='headerimage fade-in')]\n",
    "image_path[0]\n",
    "              \n"
   ]
  },
  {
   "cell_type": "code",
   "execution_count": null,
   "id": "39393a18",
   "metadata": {},
   "outputs": [],
   "source": [
    "featured_image_url = jpl_image_url + image_path[0]\n",
    "featured_image_url"
   ]
  },
  {
   "cell_type": "code",
   "execution_count": null,
   "id": "cc4ca41f",
   "metadata": {},
   "outputs": [],
   "source": [
    "#Mars Facts\n",
    "##Visit the Mars Facts webpage [here](https://galaxyfacts-mars.com) and use Pandas to scrape the table containing facts about the planet including Diameter, Mass, etc.\n",
    "###Use Pandas to convert the data to a HTML table string.\n",
    "\n",
    "facts_url = 'https://galaxyfacts-mars.com'\n",
    "browser.visit(facts_url)\n"
   ]
  },
  {
   "cell_type": "code",
   "execution_count": null,
   "id": "0567efb6",
   "metadata": {},
   "outputs": [],
   "source": [
    "#Mars Facts Pandas Portion\n",
    "facts_df = pd.read_html(facts_url)[1]\n",
    "facts_df.columns = ['Description', 'Mars']\n",
    "facts_df"
   ]
  },
  {
   "cell_type": "code",
   "execution_count": null,
   "id": "32405aa6",
   "metadata": {},
   "outputs": [],
   "source": [
    "#Mars Facts pandas dataframe to html portion\n",
    "##transpose the df. Documentation: https://numpy.org/doc/stable/reference/generated/numpy.matrix.transpose.html\n",
    "\n",
    "facts_transpose = facts_df.transpose()\n",
    "facts_transpose"
   ]
  },
  {
   "cell_type": "code",
   "execution_count": null,
   "id": "de8e3306",
   "metadata": {},
   "outputs": [],
   "source": [
    "#take the transposed dataframe and render in in html with .to_html\n",
    "facts_html = facts_transpose.to_html('MarsFacts.html', index=False)\n",
    "facts_html"
   ]
  },
  {
   "cell_type": "code",
   "execution_count": 8,
   "id": "a1b6fc9e",
   "metadata": {},
   "outputs": [],
   "source": [
    "#Mars Hemispheres\n",
    "#Visit the astrogeology site [here](https://marshemispheres.com/) to obtain high resolution images for each of Mar's hemispheres.\n",
    "##You will need to click each of the links to the hemispheres in order to find the image url to the full resolution image.\n",
    "###Save both the image url string for the full resolution hemisphere image, and the Hemisphere title containing the hemisphere name. \n",
    "####Use a Python dictionary to store the data using the keys `img_url` and `title`.\n",
    "####Append the dictionary with the image url string and the hemisphere title to a list. This list will contain one dictionary for each hemisphere.\n",
    "\n",
    "#####First set up the URLs and paths and soup\n",
    "\n",
    "hemi_url = 'https://marshemispheres.com/'\n",
    "hemi_url_path = requests.get(hemi_url)\n",
    "\n",
    "hemi_soup = bs(hemi_url_path.content)\n"
   ]
  },
  {
   "cell_type": "code",
   "execution_count": 9,
   "id": "b44b0a26",
   "metadata": {},
   "outputs": [],
   "source": [
    "#Next find the div items for the images\n",
    "hemi_div_item = hemi_soup.find_all('div', class_='item')"
   ]
  },
  {
   "cell_type": "code",
   "execution_count": 10,
   "id": "59cbbdff",
   "metadata": {},
   "outputs": [],
   "source": [
    "#Next find the links to the images and append them to a dictionary\n",
    "hemi_links = []\n",
    "for i in hemi_div_item:\n",
    "    for a in i.find_all('a', href=True):\n",
    "        if a.text:\n",
    "            hemi_links.append(a['href'])\n",
    "#print(hemi_links)"
   ]
  },
  {
   "cell_type": "code",
   "execution_count": 11,
   "id": "b0b87e69",
   "metadata": {},
   "outputs": [
    {
     "data": {
      "text/plain": [
       "['https://marshemispheres.com/cerberus.html',\n",
       " 'https://marshemispheres.com/schiaparelli.html',\n",
       " 'https://marshemispheres.com/syrtis.html',\n",
       " 'https://marshemispheres.com/valles.html']"
      ]
     },
     "execution_count": 11,
     "metadata": {},
     "output_type": "execute_result"
    }
   ],
   "source": [
    "#NEXT take the dictionary of individual links and combine it with the url for the hemishperes\n",
    "full_hemi_links = [hemi_url + i for i in hemi_links]\n",
    "full_hemi_links"
   ]
  },
  {
   "cell_type": "code",
   "execution_count": 12,
   "id": "350b4d18",
   "metadata": {},
   "outputs": [],
   "source": [
    "def extract_image(url):\n",
    "    response = requests.get(url)\n",
    "    soup = bs(response.text, \"html.parser\")\n",
    "    image = soup.find_all(\"img\", class_=\"wide-image\")\n",
    "    img = [i.get(\"src\") for i in image]\n",
    "    return \"https://marshemispheres.com/\" + img[0]"
   ]
  },
  {
   "cell_type": "code",
   "execution_count": 13,
   "id": "31efd375",
   "metadata": {
    "scrolled": true
   },
   "outputs": [
    {
     "data": {
      "text/plain": [
       "['https://marshemispheres.com/images/f5e372a36edfa389625da6d0cc25d905_cerberus_enhanced.tif_full.jpg',\n",
       " 'https://marshemispheres.com/images/3778f7b43bbbc89d6e3cfabb3613ba93_schiaparelli_enhanced.tif_full.jpg',\n",
       " 'https://marshemispheres.com/images/555e6403a6ddd7ba16ddb0e471cadcf7_syrtis_major_enhanced.tif_full.jpg',\n",
       " 'https://marshemispheres.com/images/b3c7c6c9138f57b4756be9b9c43e3a48_valles_marineris_enhanced.tif_full.jpg']"
      ]
     },
     "execution_count": 13,
     "metadata": {},
     "output_type": "execute_result"
    }
   ],
   "source": [
    "hemi_image_url = [extract_image(i) for i in full_hemi_links]\n",
    "hemi_image_url"
   ]
  },
  {
   "cell_type": "code",
   "execution_count": 14,
   "id": "0dbddd91",
   "metadata": {},
   "outputs": [
    {
     "data": {
      "text/plain": [
       "['https://marshemispheres.com/images/f5e372a36edfa389625da6d0cc25d905_cerberus_enhanced.tif_full.jpg',\n",
       " 'https://marshemispheres.com/images/3778f7b43bbbc89d6e3cfabb3613ba93_schiaparelli_enhanced.tif_full.jpg',\n",
       " 'https://marshemispheres.com/images/555e6403a6ddd7ba16ddb0e471cadcf7_syrtis_major_enhanced.tif_full.jpg',\n",
       " 'https://marshemispheres.com/images/b3c7c6c9138f57b4756be9b9c43e3a48_valles_marineris_enhanced.tif_full.jpg']"
      ]
     },
     "execution_count": 14,
     "metadata": {},
     "output_type": "execute_result"
    }
   ],
   "source": [
    "#reading the instructions, i am supposed to be using img_url for that run, so I am redoing it and renaming it\n",
    "img_url = [extract_image(i) for i in full_hemi_links]\n",
    "img_url"
   ]
  },
  {
   "cell_type": "code",
   "execution_count": 15,
   "id": "b5eeb4bb",
   "metadata": {},
   "outputs": [],
   "source": [
    "#again, following the instructions, need to perform a similar operation for the title of the images\n",
    "def image_title(url):\n",
    "    response = requests.get(url)\n",
    "    soup = bs(response.text, \"html.parser\")\n",
    "    title = soup.find_all(\"h2\", class_=\"title\")\n",
    "    title_text = [i.text for i in title]\n",
    "    return title_text[0]"
   ]
  },
  {
   "cell_type": "code",
   "execution_count": 17,
   "id": "2ef48a21",
   "metadata": {},
   "outputs": [
    {
     "data": {
      "text/plain": [
       "['Cerberus Hemisphere Enhanced',\n",
       " 'Schiaparelli Hemisphere Enhanced',\n",
       " 'Syrtis Major Hemisphere Enhanced',\n",
       " 'Valles Marineris Hemisphere Enhanced']"
      ]
     },
     "execution_count": 17,
     "metadata": {},
     "output_type": "execute_result"
    }
   ],
   "source": [
    "#now output the title code\n",
    "title = [image_title(i) for i in full_hemi_links]\n",
    "title"
   ]
  },
  {
   "cell_type": "code",
   "execution_count": 18,
   "id": "08d8bbe4",
   "metadata": {},
   "outputs": [
    {
     "data": {
      "text/plain": [
       "[('Cerberus Hemisphere Enhanced',\n",
       "  'https://marshemispheres.com/images/f5e372a36edfa389625da6d0cc25d905_cerberus_enhanced.tif_full.jpg'),\n",
       " ('Schiaparelli Hemisphere Enhanced',\n",
       "  'https://marshemispheres.com/images/3778f7b43bbbc89d6e3cfabb3613ba93_schiaparelli_enhanced.tif_full.jpg'),\n",
       " ('Syrtis Major Hemisphere Enhanced',\n",
       "  'https://marshemispheres.com/images/555e6403a6ddd7ba16ddb0e471cadcf7_syrtis_major_enhanced.tif_full.jpg'),\n",
       " ('Valles Marineris Hemisphere Enhanced',\n",
       "  'https://marshemispheres.com/images/b3c7c6c9138f57b4756be9b9c43e3a48_valles_marineris_enhanced.tif_full.jpg')]"
      ]
     },
     "execution_count": 18,
     "metadata": {},
     "output_type": "execute_result"
    }
   ],
   "source": [
    "#now we can create a list of tuples with the zip function to combine the img_url and titles we just acquired\n",
    "url_list = list(zip(title, img_url))\n",
    "url_list"
   ]
  },
  {
   "cell_type": "code",
   "execution_count": 19,
   "id": "5ffbdbc0",
   "metadata": {},
   "outputs": [],
   "source": [
    "#call a function to combine the total urls as requested in the HW ReadME\n",
    "\n",
    "keys = ('title', 'img_url')\n",
    "\n",
    "def url_function(keys, url_list):\n",
    "    url_dictionary = [dict(zip(keys, values)) for values in url_list]\n",
    "    return url_dictionary"
   ]
  },
  {
   "cell_type": "code",
   "execution_count": 20,
   "id": "36cc78c4",
   "metadata": {},
   "outputs": [
    {
     "data": {
      "text/plain": [
       "[{'title': 'Cerberus Hemisphere Enhanced',\n",
       "  'img_url': 'https://marshemispheres.com/images/f5e372a36edfa389625da6d0cc25d905_cerberus_enhanced.tif_full.jpg'},\n",
       " {'title': 'Schiaparelli Hemisphere Enhanced',\n",
       "  'img_url': 'https://marshemispheres.com/images/3778f7b43bbbc89d6e3cfabb3613ba93_schiaparelli_enhanced.tif_full.jpg'},\n",
       " {'title': 'Syrtis Major Hemisphere Enhanced',\n",
       "  'img_url': 'https://marshemispheres.com/images/555e6403a6ddd7ba16ddb0e471cadcf7_syrtis_major_enhanced.tif_full.jpg'},\n",
       " {'title': 'Valles Marineris Hemisphere Enhanced',\n",
       "  'img_url': 'https://marshemispheres.com/images/b3c7c6c9138f57b4756be9b9c43e3a48_valles_marineris_enhanced.tif_full.jpg'}]"
      ]
     },
     "execution_count": 20,
     "metadata": {},
     "output_type": "execute_result"
    }
   ],
   "source": [
    "#call the output and display\n",
    "complete_hemi_urls = url_function(keys, url_list)\n",
    "complete_hemi_urls"
   ]
  },
  {
   "cell_type": "code",
   "execution_count": null,
   "id": "00c8f845",
   "metadata": {},
   "outputs": [],
   "source": []
  }
 ],
 "metadata": {
  "kernelspec": {
   "display_name": "Python 3",
   "language": "python",
   "name": "python3"
  },
  "language_info": {
   "codemirror_mode": {
    "name": "ipython",
    "version": 3
   },
   "file_extension": ".py",
   "mimetype": "text/x-python",
   "name": "python",
   "nbconvert_exporter": "python",
   "pygments_lexer": "ipython3",
   "version": "3.8.8"
  }
 },
 "nbformat": 4,
 "nbformat_minor": 5
}
