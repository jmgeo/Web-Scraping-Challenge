{
 "cells": [
  {
   "cell_type": "code",
   "execution_count": 1,
   "id": "6f196a04",
   "metadata": {},
   "outputs": [],
   "source": [
    "#import dependencies\n",
    "from splinter import Browser\n",
    "from bs4 import BeautifulSoup as bs\n",
    "from selenium import webdriver\n",
    "import pandas as pd\n",
    "import requests\n",
    "import pymongo\n",
    "from flask import Flask\n",
    "#flask_pymongo import is generating an error code. Pip instal Flask-Pymongo\n",
    "##documentation here: https://flask-pymongo.readthedocs.io/en/latest/\n",
    "from flask_pymongo import PyMongo\n",
    "from flask import render_template, redirect"
   ]
  },
  {
   "cell_type": "code",
   "execution_count": null,
   "id": "9855389e",
   "metadata": {},
   "outputs": [],
   "source": []
  }
 ],
 "metadata": {
  "kernelspec": {
   "display_name": "Python 3",
   "language": "python",
   "name": "python3"
  },
  "language_info": {
   "codemirror_mode": {
    "name": "ipython",
    "version": 3
   },
   "file_extension": ".py",
   "mimetype": "text/x-python",
   "name": "python",
   "nbconvert_exporter": "python",
   "pygments_lexer": "ipython3",
   "version": "3.8.8"
  }
 },
 "nbformat": 4,
 "nbformat_minor": 5
}
