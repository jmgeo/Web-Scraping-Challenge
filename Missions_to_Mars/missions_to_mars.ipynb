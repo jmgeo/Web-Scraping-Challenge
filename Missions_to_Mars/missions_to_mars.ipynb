{
 "cells": [
  {
   "cell_type": "code",
   "execution_count": 1,
   "id": "6f196a04",
   "metadata": {},
   "outputs": [],
   "source": [
    "#import dependencies\n",
    "from splinter import Browser\n",
    "from bs4 import BeautifulSoup as bs\n",
    "from selenium import webdriver\n",
    "import pandas as pd\n",
    "import requests\n",
    "import pymongo\n",
    "from flask import Flask\n",
    "#flask_pymongo import is generating an error code. Pip install Flask-Pymongo\n",
    "##documentation here: https://flask-pymongo.readthedocs.io/en/latest/\n",
    "from flask_pymongo import PyMongo\n",
    "from flask import render_template, redirect\n",
    "###pip install fixed the error."
   ]
  },
  {
   "cell_type": "code",
   "execution_count": 4,
   "id": "9855389e",
   "metadata": {},
   "outputs": [],
   "source": [
    "#Set up the executable path and the browser. Boiler plate code.\n",
    "executable_path = {'executable_path': 'chromedriver.exe'}\n",
    "browser = Browser('chrome', **executable_path, headless=False) "
   ]
  },
  {
   "cell_type": "code",
   "execution_count": 5,
   "id": "bfb32449",
   "metadata": {},
   "outputs": [],
   "source": [
    "#link to the url from the assignment readme\n",
    "redplanet_url = 'https://redplanetscience.com/'\n",
    "browser.visit(redplanet_url)"
   ]
  },
  {
   "cell_type": "code",
   "execution_count": 16,
   "id": "a9bf2ad0",
   "metadata": {},
   "outputs": [
    {
     "name": "stdout",
     "output_type": "stream",
     "text": [
      "Space History Is Made in This NASA Robot Factory\n",
      "=================================================\n",
      "From rockets to rovers, JPL's Spacecraft Assembly Facility has been at the center of robotic spaceflight. Here's a closer look at what makes it so special.\n"
     ]
    }
   ],
   "source": [
    "#create the html, soup, and do the scraping\n",
    "html = browser.html\n",
    "\n",
    "redplanet_soup = bs(html, 'html.parser')\n",
    "\n",
    "#assign as variables the scraped data\n",
    "news_title = redplanet_soup.find_all('div', class_='content_title')[0].text\n",
    "news_paragraph = redplanet_soup.find_all('div', class_='article_teaser_body')[0].text\n",
    "\n",
    "print(news_title)\n",
    "print(\"=================================================\")\n",
    "print(news_paragraph)"
   ]
  },
  {
   "cell_type": "code",
   "execution_count": null,
   "id": "ec81f4cd",
   "metadata": {},
   "outputs": [],
   "source": []
  }
 ],
 "metadata": {
  "kernelspec": {
   "display_name": "Python 3",
   "language": "python",
   "name": "python3"
  },
  "language_info": {
   "codemirror_mode": {
    "name": "ipython",
    "version": 3
   },
   "file_extension": ".py",
   "mimetype": "text/x-python",
   "name": "python",
   "nbconvert_exporter": "python",
   "pygments_lexer": "ipython3",
   "version": "3.8.8"
  }
 },
 "nbformat": 4,
 "nbformat_minor": 5
}
